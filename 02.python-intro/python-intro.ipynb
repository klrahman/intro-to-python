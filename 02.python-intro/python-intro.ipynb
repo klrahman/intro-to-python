{
 "cells": [
  {
   "cell_type": "markdown",
   "id": "f278ac8d-1a6a-4ac7-aa5a-aa5056968ec0",
   "metadata": {},
   "source": [
    "# intro to python\n",
    "\n",
    "## overview\n",
    "\n",
    "Programming is a powerful tool that allows us to do complicated calculations and analysis, visualize data, and automate workflows to ensure consistency, accuracy, and reproducibility in our research.\n",
    "\n",
    "In this exercise, you will get a basic introduction to the python programming language, including variables and objects, data types, and how to control the flow of our programs. Over the next few sessions, we will build on these ideas, using some real example data, to get more of an idea of how to use python in our research.\n",
    "\n",
    "This is an interactive notebook - in between bits of text, there are interactive cells which you can use to execute snippets of python code. To run these cells, highlight them by clicking on them, then press CTRL and ENTER (or SHIFT and ENTER, or by pressing the \"play\" button at the top of this tab).\n",
    "\n",
    "## objectives\n",
    "\n",
    "After finishing this exercise, you will:\n",
    "\n",
    "- learn and gain experience with some of the basic elements of python and programming\n",
    "- learn how to use the python command line interface\n",
    "\n",
    "\n",
    "## objects and assignment\n",
    "\n",
    "We'll start by creating a new object, foo, and assigning it a value of `hello, world!`:\n",
    "\n",
    "```python\n",
    "\n",
    "    foo = \"hello, world!\" # assign an object using =\n",
    "\n",
    "```\n",
    "\n",
    "In the text above (and the cell below), you should notice that the color of different parts of the text is different. We'll discuss different aspects of this as we go, but pay attention to the greenish text that comes after the `#` - this indicates a *comment*, meaning text that is intended for humans to read, but that is ignored by the python interpreter. We'll discuss comments more when we start looking at writing scripts, but as you work through the exercises, make sure to read the comments - they're there to help you understand what each line of code actually does.\n",
    "\n",
    "After creating the `foo` **object**, we use the built-in `print()` ([documentation](https://docs.python.org/3/library/functions.html#print)) function (more on these later) to see the *value* of that object. \n",
    "\n",
    "Go ahead and run the cell to get started:"
   ]
  },
  {
   "cell_type": "markdown",
   "id": "8cc85eed-eda8-435f-bc5e-1ff3b43764bc",
   "metadata": {},
   "source": [
    "You should notice that the cell has changed. First, the square brackets (`[ ]`) have a number inside of them (`[1]`), and you can also see the output below the cell.\n",
    "\n",
    "Often, you will want to know how to use a particular function. To get help, we can use the built-in `help()` function ([documentation](https://docs.python.org/3/library/functions.html#help)). For example, to get more information on how to use the `print()` function:"
   ]
  },
  {
   "cell_type": "code",
   "execution_count": 2,
   "id": "9d503d6f-1660-4d83-89b1-6a67a91cc963",
   "metadata": {
    "scrolled": true
   },
   "outputs": [
    {
     "name": "stdout",
     "output_type": "stream",
     "text": [
      "Help on built-in function print in module builtins:\n",
      "\n",
      "print(...)\n",
      "    print(value, ..., sep=' ', end='\\n', file=sys.stdout, flush=False)\n",
      "    \n",
      "    Prints the values to a stream, or to sys.stdout by default.\n",
      "    Optional keyword arguments:\n",
      "    file:  a file-like object (stream); defaults to the current sys.stdout.\n",
      "    sep:   string inserted between values, default a space.\n",
      "    end:   string appended after the last value, default a newline.\n",
      "    flush: whether to forcibly flush the stream.\n",
      "\n"
     ]
    }
   ],
   "source": [
    "help(print) # use the help() function to find out more about particular functions"
   ]
  },
  {
   "cell_type": "markdown",
   "id": "174fa7bf-c98b-492d-b7fa-852de013e5aa",
   "metadata": {},
   "source": [
    "Alternatively, in a jupyter notebook (or IPython terminal), we can use `?` (the question mark operator) to do the same:"
   ]
  },
  {
   "cell_type": "code",
   "execution_count": 3,
   "id": "0d6b074f-13d3-4e6c-980d-9d56f90f8fe1",
   "metadata": {},
   "outputs": [
    {
     "name": "stdout",
     "output_type": "stream",
     "text": [
      "hello, world!\n"
     ]
    }
   ],
   "source": [
    "foo = \"hello, world!\" # assign an object using =\n",
    "print(foo) # print the value of the object to the screen"
   ]
  },
  {
   "cell_type": "code",
   "execution_count": 4,
   "id": "1b880eb5-4299-4815-87b3-c0da4deb23a5",
   "metadata": {},
   "outputs": [
    {
     "data": {
      "text/plain": [
       "\u001b[1;31mDocstring:\u001b[0m\n",
       "print(value, ..., sep=' ', end='\\n', file=sys.stdout, flush=False)\n",
       "\n",
       "Prints the values to a stream, or to sys.stdout by default.\n",
       "Optional keyword arguments:\n",
       "file:  a file-like object (stream); defaults to the current sys.stdout.\n",
       "sep:   string inserted between values, default a space.\n",
       "end:   string appended after the last value, default a newline.\n",
       "flush: whether to forcibly flush the stream.\n",
       "\u001b[1;31mType:\u001b[0m      builtin_function_or_method"
      ]
     },
     "metadata": {},
     "output_type": "display_data"
    }
   ],
   "source": [
    "?print"
   ]
  },
  {
   "cell_type": "markdown",
   "id": "559b0634-ce46-432e-8c0c-2cc0e8641f38",
   "metadata": {},
   "source": [
    "## variable names\n",
    "\n",
    "We have already seen one example of a variable, `foo`, above. Remember that in programming, a variable is name that represents or refers to a value. Variables store temporary information that can be manipulated or changed as we type commands or run scripts.\n",
    "\n",
    "One important thing to remember is that the *name* of an **object** is *case-sensitive* (meaning that `foo` is different from `Foo`):"
   ]
  },
  {
   "cell_type": "code",
   "execution_count": 5,
   "id": "696b3007-758c-47b8-8679-4bf93f3f6f83",
   "metadata": {},
   "outputs": [
    {
     "ename": "NameError",
     "evalue": "name 'Foo' is not defined",
     "output_type": "error",
     "traceback": [
      "\u001b[1;31m---------------------------------------------------------------------------\u001b[0m",
      "\u001b[1;31mNameError\u001b[0m                                 Traceback (most recent call last)",
      "Cell \u001b[1;32mIn[5], line 1\u001b[0m\n\u001b[1;32m----> 1\u001b[0m \u001b[38;5;28mprint\u001b[39m(\u001b[43mFoo\u001b[49m) \u001b[38;5;66;03m# this won't work, because we haven't created an object called Foo yet\u001b[39;00m\n",
      "\u001b[1;31mNameError\u001b[0m: name 'Foo' is not defined"
     ]
    }
   ],
   "source": [
    "print(Foo) # this won't work, because we haven't created an object called Foo yet"
   ]
  },
  {
   "cell_type": "markdown",
   "id": "173c2f80-c9fd-4145-9308-b04d3c039f6e",
   "metadata": {},
   "source": [
    "We'll see more examples of error messages later (and how to interpret them), but hopefully the message:\n",
    "\n",
    "```pytb\n",
    "    NameError: name 'Foo' is not defined\n",
    "\n",
    "```\n",
    "\n",
    "is clear enough. Because we were expecting this error message, we can ignore it and move on for now.\n",
    "\n",
    "In python, variable names can consist of letters, digits, or underscores, but they cannot begin with a digit. If you try to name a variable using an illegal name, you will get a `SyntaxError`:\n",
    "\n",
    "```pytb\n",
    "\n",
    ">>> 3var = \"this won't work\"\n",
    "  Cell In[5], line 1\n",
    "    3var = 'this won't work'\n",
    "     ^\n",
    "SyntaxError: invalid decimal literal\n",
    "\n",
    "```\n",
    "\n",
    "To confirm this, try it for yourself below:"
   ]
  },
  {
   "cell_type": "code",
   "execution_count": 6,
   "id": "66ff0708-c5b8-4a84-8a5b-d7dbad68a08c",
   "metadata": {},
   "outputs": [
    {
     "ename": "SyntaxError",
     "evalue": "invalid decimal literal (1145266503.py, line 1)",
     "output_type": "error",
     "traceback": [
      "\u001b[1;36m  Cell \u001b[1;32mIn[6], line 1\u001b[1;36m\u001b[0m\n\u001b[1;33m    3var = \"this won't work\"\u001b[0m\n\u001b[1;37m    ^\u001b[0m\n\u001b[1;31mSyntaxError\u001b[0m\u001b[1;31m:\u001b[0m invalid decimal literal\n"
     ]
    }
   ],
   "source": [
    "3var = \"this won't work\""
   ]
  },
  {
   "cell_type": "markdown",
   "id": "d3137ff9-fdd9-470e-b430-3027649ae300",
   "metadata": {},
   "source": [
    "Here, we see a `SyntaxError` raised - this means that the code we have written violates the *syntax* (grammar) of the language. We'll look more at different error types in the debugging exercise later on.\n",
    "\n",
    "## data types\n",
    "\n",
    "So, we've created our first **object**, `foo`. But what kind of object is `foo`? To find out, we can use the `type()` function ([documentation](https://docs.python.org/3/library/functions.html#type)):"
   ]
  },
  {
   "cell_type": "code",
   "execution_count": null,
   "id": "5c7ff252-1e7f-4471-9e01-0408a42b2c5c",
   "metadata": {},
   "outputs": [],
   "source": [
    "type(foo) # use the type() function to find the type of an object"
   ]
  },
  {
   "cell_type": "markdown",
   "id": "360407ed-f1a3-4353-9b2f-01644addcf0b",
   "metadata": {},
   "source": [
    "So `foo` is an object of type **str**, (\"string\"), meaning that it is *text*.\n",
    "\n",
    "In general, python has the following basic data types:\n",
    "\n",
    "In practice, variables can refer to almost anything. Variables can also be **int**egers, **float**ing point numbers (decimal numbers), **list**s, **tuple**, **dict**ionaries, entire files, and many more possibilities.\n",
    "\n",
    "## numeric operations\n",
    "\n",
    "A large part of what we will use python for is the manipulation of numeric data. Thus, it is a good idea for us to understand how python treats numeric data. In the cell below, we first define two variables, `x` and `y`, and assign them values of 2 and 3, respectively. \n",
    "\n",
    "Before you run the cell, look at the print statements - these will show which operators are being used (`+`, `-`, `*`, etc.), along with the output of the operation using the variables `x` and `y`.  Think about what you exect the results to be - when you run the cell, do the outputs match your expectation? Why or why not?"
   ]
  },
  {
   "cell_type": "code",
   "execution_count": null,
   "id": "bfa2bdda-1639-4651-ac22-14b8f3fac7f6",
   "metadata": {},
   "outputs": [],
   "source": [
    "x = 2\n",
    "y = 3\n",
    "\n",
    "print(f\"x + y = {(x+y)}\") # print the value of x + y (addition)\n",
    "print(f\"x - y = {(x-y)}\") # print the value of x - y (subtraction)\n",
    "print(f\"x * y = {(x*y)}\") # print the value of x * y (multiplication)\n",
    "print(f\"x / y = {(x/y)}\") # print the value of x / y (division)\n",
    "print(f\"x // y = {(x//y)}\") # print the value of x // y (floor division)\n",
    "print(f\"x ** y = {(x**y)}\") # print the value of x ** y (exponentiation)\n",
    "print(f\"x % y = {(x%y)}\") # print the value of x % y (modular division)\n",
    "print(f\"x ^ y = {(x^y)}\") # print the value of x ^ y (bitwise XOR)"
   ]
  },
  {
   "cell_type": "markdown",
   "id": "0641ad31-15bf-43b9-acc0-5e909d0844c0",
   "metadata": {},
   "source": [
    "Most of these should be fairly straightforward, except perhaps for the last two (`%` and `^`). The `%` (\"modular\" operator) returns the remainder of dividing two numbers. The `^` (\"bitwise XOR\" or \"bitwise exclusive or\") does something a little more involved - for more information about bitwise operators in general, see this [Wikipedia article](https://en.wikipedia.org/wiki/Bitwise_operation#Bitwise_operators).\n",
    "\n",
    "Note also how we're using `print()` here, with a \"[formatted string literal](https://docs.python.org/3/tutorial/inputoutput.html#tut-f-strings)\" (or \"**f-String**\", `f\"{}\"`). By prefixing the string with the letter `f`, we can include the value of an expression inside the string, using the `{ }` operators. We'll look at more examples of how to use these later on, including how we can format numbers inside of strings.\n",
    "\n",
    "## string variables and operations\n",
    "\n",
    "We have already worked with one example of a **str** (string) variable, `foo`. We can easily access parts of a string by using the desired index inside square brackets `[ ]`. Remember that the index starts from 0, and it has to be an **int**eger value:"
   ]
  },
  {
   "cell_type": "code",
   "execution_count": 7,
   "id": "20727919-bc97-43ac-ab5d-213e264e450b",
   "metadata": {},
   "outputs": [
    {
     "data": {
      "text/plain": [
       "'h'"
      ]
     },
     "execution_count": 7,
     "metadata": {},
     "output_type": "execute_result"
    }
   ],
   "source": [
    "foo[0] # get the first element of foo, 'h'"
   ]
  },
  {
   "cell_type": "markdown",
   "id": "6302f1c8-e089-4d93-b7a6-8a35f2cfec68",
   "metadata": {},
   "source": [
    "If we use a **float**ing point value, it raises a `TypeError`:"
   ]
  },
  {
   "cell_type": "code",
   "execution_count": 8,
   "id": "75b8134c-0663-47a5-a9c9-f3fc78df982d",
   "metadata": {},
   "outputs": [
    {
     "ename": "TypeError",
     "evalue": "string indices must be integers",
     "output_type": "error",
     "traceback": [
      "\u001b[1;31m---------------------------------------------------------------------------\u001b[0m",
      "\u001b[1;31mTypeError\u001b[0m                                 Traceback (most recent call last)",
      "Cell \u001b[1;32mIn[8], line 1\u001b[0m\n\u001b[1;32m----> 1\u001b[0m \u001b[43mfoo\u001b[49m\u001b[43m[\u001b[49m\u001b[38;5;241;43m0.0\u001b[39;49m\u001b[43m]\u001b[49m \u001b[38;5;66;03m# slice indices have to be integers, not floats!\u001b[39;00m\n",
      "\u001b[1;31mTypeError\u001b[0m: string indices must be integers"
     ]
    }
   ],
   "source": [
    "foo[0.0] # slice indices have to be integers, not floats!"
   ]
  },
  {
   "cell_type": "markdown",
   "id": "ef413d4b-12da-46ed-b31c-ad8e92b17b68",
   "metadata": {},
   "source": [
    "To access the last element of a **str** (or any sequence), we could count up all of the elements of the **str** and subtract one (remember that we start counting at 0, not 1), but python gives us an easier way: *negative indexing*. \n",
    "\n",
    "Thus, to get the last element of `foo`, we can type `foo[-1]`. To get the second-to-last element, we could type `foo[-2]`, and so on:"
   ]
  },
  {
   "cell_type": "code",
   "execution_count": 9,
   "id": "62acd8fe-647f-41bc-9725-aac6205cc9fc",
   "metadata": {},
   "outputs": [
    {
     "data": {
      "text/plain": [
       "'!'"
      ]
     },
     "execution_count": 9,
     "metadata": {},
     "output_type": "execute_result"
    }
   ],
   "source": [
    "foo[-1] # get the last character in foo"
   ]
  },
  {
   "cell_type": "markdown",
   "id": "122268e7-6001-4739-a125-4fea6e90cf73",
   "metadata": {},
   "source": [
    "If we want to access more than one element of the string, we can use multiple indices, with the basic form of:\n",
    "\n",
    "```python\n",
    "sliced = foo[first:last]\n",
    "```\n",
    "\n",
    "This will select the letters of the string starting at index `first` up to, **but not including**, `last`.\n",
    "\n",
    "This is also called **slicing**. Before running the cell below, think about what the result should be:"
   ]
  },
  {
   "cell_type": "code",
   "execution_count": null,
   "id": "d7acafb7-e239-461e-9714-0c7217064ddf",
   "metadata": {},
   "outputs": [],
   "source": [
    "foo[1:5] # get the characters from index 1 to 4"
   ]
  },
  {
   "cell_type": "markdown",
   "id": "bd10ab47-cf87-459b-9121-4a49723a783a",
   "metadata": {},
   "source": [
    "If we want to find an element in a string, we can use the helpfully-named built-in function (or method) `.find()`. For example, typing `foo.find('W')` will return the index of the first occurrence of the character `'w'`:"
   ]
  },
  {
   "cell_type": "code",
   "execution_count": null,
   "id": "5d18a9eb-085e-41cc-b0c8-60e6c9d865b9",
   "metadata": {},
   "outputs": [],
   "source": [
    "foo.find('w') # return the first index of the letter w"
   ]
  },
  {
   "cell_type": "markdown",
   "id": "a78383fd-7196-4946-b640-12772a56ac04",
   "metadata": {},
   "source": [
    "What happens if the given character (or substring) isn't found in the string? Write a line of code in the cell below to check."
   ]
  },
  {
   "cell_type": "code",
   "execution_count": null,
   "id": "e2f7148a-01ec-4e00-8fe0-ed9648d4444b",
   "metadata": {},
   "outputs": [],
   "source": [
    "# write a line of code to try to find a character that isn't in 'hello, world!'"
   ]
  },
  {
   "cell_type": "markdown",
   "id": "a7b3627c-600b-4b9e-8923-04c28632a3cb",
   "metadata": {},
   "source": [
    "Finally, although we can’t subtract or divide strings, we do have two operators at our disposal: `+` (concatenation) and `*` (repeated concatenation). \n",
    "\n",
    "Before running the cell below, what do you expect will be stored in each variable below? Does the result match what you expected?"
   ]
  },
  {
   "cell_type": "code",
   "execution_count": null,
   "id": "a96791fb-cb6c-4188-8e3f-835651013115",
   "metadata": {},
   "outputs": [],
   "source": [
    "new_string = \"Hello\" + \"World!\" # use string concatenation\n",
    "rep_string = \"Hello\" * 5 # use repeated concatenation\n",
    "\n",
    "print(f'newString is: {new_string}')\n",
    "print(f'repString is: {rep_string}')"
   ]
  },
  {
   "cell_type": "markdown",
   "id": "ef1292a5-cb69-475e-96b9-f7fd6b4af1db",
   "metadata": {},
   "source": [
    "## lists\n",
    "\n",
    "**list**s are an incredibly powerful and versatile data type we can use in python to store a sequence of values. \n",
    "\n",
    "Any other data type can be inserted into a **list**, including other **list**s. Run the following cell to see how we can create a new **list** object:"
   ]
  },
  {
   "cell_type": "code",
   "execution_count": null,
   "id": "8799e34d-efc7-43b9-a8bf-2753fea3ecf5",
   "metadata": {},
   "outputs": [],
   "source": [
    "fruits = [\"Apple\", \"Banana\", \"Melon\", \"Grapes\", \"Raspberries\"] # create a list of fruits\n",
    "print(fruits) # print the value of the list"
   ]
  },
  {
   "cell_type": "markdown",
   "id": "7a063002-e0a6-4c48-ae8d-6819f4b20aeb",
   "metadata": {},
   "source": [
    "Like with **str** objects, we can access and manipulate **list** objects using indexing and slicing techniques, in much the same way.\n",
    "\n",
    "Can you write a command below to `print()` 'Grapes' by using the corresponding index from the **list**?"
   ]
  },
  {
   "cell_type": "code",
   "execution_count": null,
   "id": "3bcd21d0-ed8d-413f-ba6a-0c33b51ad17e",
   "metadata": {},
   "outputs": [],
   "source": [
    "print() #insert the correct command inside the ()"
   ]
  },
  {
   "cell_type": "markdown",
   "id": "f1841b26-ef72-4ab7-9b7b-199f2939c8b6",
   "metadata": {},
   "source": [
    "If we want to access more than one element of a list, we can slice the list, using the same syntax as with the `foo` examples above.\n",
    "\n",
    "What do you think will print if you run the cell below? "
   ]
  },
  {
   "cell_type": "code",
   "execution_count": null,
   "id": "57eee8fd-680d-430a-a942-8f3810d05a97",
   "metadata": {},
   "outputs": [],
   "source": [
    "fruits[2:-1] # think about what this output will look like"
   ]
  },
  {
   "cell_type": "markdown",
   "id": "ad9d69cf-b310-4e79-8754-715074d0b18c",
   "metadata": {},
   "source": [
    "What about this cell?"
   ]
  },
  {
   "cell_type": "code",
   "execution_count": null,
   "id": "38e3e3d8-fc74-4dbb-9b39-9963557e2e29",
   "metadata": {},
   "outputs": [],
   "source": [
    "fruits[2:-1][0] # what will this show?"
   ]
  },
  {
   "cell_type": "markdown",
   "id": "764ed2c1-ac8e-4f98-aaab-f023caebc3cb",
   "metadata": {},
   "source": [
    "and finally, what about this?"
   ]
  },
  {
   "cell_type": "code",
   "execution_count": null,
   "id": "cfb14061-ae79-465b-8003-bbfbfc0ae62f",
   "metadata": {},
   "outputs": [],
   "source": [
    "fruits[2:-1][0][-1]"
   ]
  },
  {
   "cell_type": "markdown",
   "id": "2c59ffdf-8c11-4982-a266-aed8d448f9c2",
   "metadata": {},
   "source": [
    "As you can see from the examples above, while indexing a **list** returns the value of a single element, a **list** slice is itself a **list**. This difference is subtle, but important to remember."
   ]
  },
  {
   "cell_type": "markdown",
   "id": "ec987ef6-9db8-4ff5-955c-ea5d0dac4bb3",
   "metadata": {},
   "source": [
    "## classes, functions and methods\n",
    "\n",
    "In programming, a **function** is essentially a short program that we can use to perform a specific action. Functions take in **parameters** in the form of **arguments**, and (often, but not always) return a result, or otherwise perform an action. Parameters can be **positional** (in other words, the order they are given matters), or they can be **keyword** (i.e., you specify the argument with the parameter name, in the form `parameter=value`). \n",
    "\n",
    "Python has a number of built-in functions for us to use. For example, instead of typing `2 ** 8` to raise 2 to the power of 8, we could instead have typed `pow(2,8)`:"
   ]
  },
  {
   "cell_type": "code",
   "execution_count": null,
   "id": "bb30b9cc-98cf-493b-a543-2d88de433dc7",
   "metadata": {},
   "outputs": [],
   "source": [
    "print(f'using the ** operator: {2**8}')\n",
    "print(f'using the pow() function: {pow(2, 8)}')"
   ]
  },
  {
   "cell_type": "markdown",
   "id": "30ff56db-61de-444b-8aac-ea33e24bba92",
   "metadata": {},
   "source": [
    "Here, we are calling the function `pow()` and supplying the __positional__ arguments `2` and `8`. The result returned is the same, `256` (or 2<sup>8</sup>), but the approach used is different.\n",
    "\n",
    "To see a list of the built-in functions, have a look at the python [documentation](https://docs.python.org/3/library/functions.html). Alternatively, you can type `print(dir(__builtins__))` (note the two underscores on either side of **builtins**):"
   ]
  },
  {
   "cell_type": "code",
   "execution_count": null,
   "id": "4ae20f41-653d-41f1-b20f-109edf3a6540",
   "metadata": {},
   "outputs": [],
   "source": [
    "print(dir(__builtins__)) # show a list of all of the builtin functions"
   ]
  },
  {
   "cell_type": "markdown",
   "id": "e80715cb-8278-44cd-9abb-16ac9c1f5430",
   "metadata": {},
   "source": [
    "While it may not be completely clear at first what each of these things are, remember that we can use the `help()` **function** to get more information. \n",
    "\n",
    "For example, one very useful built-in **class** is `range` ([documentation](https://docs.python.org/3/library/stdtypes.html#range)).\n",
    "\n",
    "To create a new **range** object, we call it like we would a function:\n",
    "\n",
    "```python\n",
    "range(stop)\n",
    "range([start,] stop [,step])\n",
    "```\n",
    "\n",
    "\"Under the hood\", so to speak, remember that this is actually calling the **\\_\\_init\\_\\_()** method of the **class**, which is the **function** that python uses to *initalize*, or create, a new object.\n",
    "\n",
    "Note that `range()` takes between one and three arguments:\n",
    "\n",
    "- `range(stop)` creates a **range** object that will \"count\" from 0 up to (but not including) `stop`, incrementing by 1.\n",
    "- `range(start, stop)` creates a **range** object that will \"count\" from `start` up to (but not including) `stop`, incrementing by 1.\n",
    "- `range(start, stop, step)` creates a **range** object that will \"count\" from `start` to (but not including) `stop`, incrementing by `step`.\n",
    "\n",
    "To pass multiple parameters to a function, we separate each parameter by a comma. In the cell below, write a statement that returns a list of numbers counting from a `start` of 10 to 0 (inclusive)."
   ]
  },
  {
   "cell_type": "code",
   "execution_count": null,
   "id": "40948410-884a-4e67-8726-492f59ac6321",
   "metadata": {},
   "outputs": [],
   "source": [
    "for ii in range(start, stop, step): # modify this to print out a list of numbers 10, 9, 8, ... 0.\n",
    "    print(ii)"
   ]
  },
  {
   "cell_type": "markdown",
   "id": "d5fa97a7-a759-4034-84ca-2f7041696dc4",
   "metadata": {},
   "source": [
    "A **method** is a type of **function** that acts directly on an object.\n",
    "\n",
    "In general, methods are called just like functions - the general syntax is `object.method(arguments)`. \n",
    "\n",
    "For example, **str** objects have a **method**, `.count()` [documentation](https://docs.python.org/3/library/stdtypes.html#str.count), which counts the number of times a character (or substring) occurs in the **str**. The cell below should output the number of times the character `l` occurs in `foo` (3):"
   ]
  },
  {
   "cell_type": "code",
   "execution_count": null,
   "id": "4f5b4fd3-0f72-44e7-b2b8-d4aabb96c7e7",
   "metadata": {},
   "outputs": [],
   "source": [
    "foo.count('l')"
   ]
  },
  {
   "cell_type": "markdown",
   "id": "9a973334-bab4-4b75-a1e4-522743e677d2",
   "metadata": {},
   "source": [
    "Another powerful **str** method is `.split()` [documentation](https://docs.python.org/3/library/stdtypes.html#str.split), which returns a **list** of the given **str**, split into substrings based on the delimeter provided as an argument:\n",
    "\n",
    "```python3\n",
    ">>> help(str.split)\n",
    "\n",
    "split(self, /, sep=None, maxsplit=-1)\n",
    "    Return a list of the words in the string, using sep as the delimiter string.\n",
    "    \n",
    "    sep\n",
    "      The delimiter according which to split the string.\n",
    "      None (the default value) means split according to any whitespace,\n",
    "      and discard empty strings from the result.\n",
    "    maxsplit\n",
    "      Maximum number of splits to do.\n",
    "      -1 (the default value) means no limit.\n",
    "```\n",
    "\n",
    "From this, we can see that if we call `.split()` without any arguments at all, it will split the string based on any whitespace and discard any *empty* strings. That is, if we have multiple spaces in our string, it will treat those as a single space:"
   ]
  },
  {
   "cell_type": "code",
   "execution_count": null,
   "id": "a50e8662-1d00-4489-a3dd-208ca6ea2c07",
   "metadata": {},
   "outputs": [],
   "source": [
    "singlespace = 'programming skills for phd researchers'\n",
    "multispace = 'programming        skills   for  phd     researchers'\n",
    "\n",
    "print(singlespace.split()) # split on any whitespace\n",
    "print(multispace.split()) # split on any whitespace"
   ]
  },
  {
   "cell_type": "markdown",
   "id": "40ec755b-2248-4daa-b646-cbb99a406ffd",
   "metadata": {},
   "source": [
    "If we want to specify a single space character (`' '`), though, the result will change:"
   ]
  },
  {
   "cell_type": "code",
   "execution_count": null,
   "id": "e4bcdfd2-3556-4e9f-bb2a-4331d612e467",
   "metadata": {},
   "outputs": [],
   "source": [
    "print(singlespace.split(' ')) # split on a single space\n",
    "print(multispace.split(' ')) # split on a single space"
   ]
  },
  {
   "cell_type": "markdown",
   "id": "2ac45aaf-cdda-44c1-8456-7cbab20d9360",
   "metadata": {},
   "source": [
    "## defining our own functions\n",
    "\n",
    "Often, we will want to define our own **function**s. Using functions has many benefits, including:\n",
    "\n",
    "- improving readability,\n",
    "- eliminating repetitive code,\n",
    "- allowing for easier debugging of a program,\n",
    "- and even allowing us to re-use code in other scripts/programs.\n",
    "\n",
    "Defining a **function** in python is quite easy. \n",
    "\n",
    "We begin the definition with a `def` **statement** that includes the function name and all parameters (this first line is also called the **header**). The header must end with a colon (`:`):\n",
    "\n",
    "```python\n",
    "def cat_twice(str1, str2):\n",
    "```\n",
    "\n",
    "The **body** of the function (i.e., the set of instructions that make up the function) is *indented* - like other forms of flow control in python, once the interpreter sees a non-indented line, it marks the end of the function:\n",
    "\n",
    "```python\n",
    "def cat_twice(str1, str2):\n",
    "   cat = str1 + str2\n",
    "   print(cat) # this is part of the function\n",
    "   print(cat) # this is part of the function\n",
    "\n",
    "# this is no longer part of the function\n",
    "```\n",
    "\n",
    "To help illustrate this, let's define a function for calculating the area of a circle. Mathematically, this is a function of the radius of the circle - equal to the constant pi multiplied by the radius squared. Run the cell below to create the new function, and then test it:"
   ]
  },
  {
   "cell_type": "code",
   "execution_count": 3,
   "id": "f7111879-4f64-4615-b362-248c04289ef4",
   "metadata": {},
   "outputs": [
    {
     "data": {
      "text/plain": [
       "314.1592653589793"
      ]
     },
     "execution_count": 3,
     "metadata": {},
     "output_type": "execute_result"
    }
   ],
   "source": [
    "from math import pi # import the constant pi from the math module\n",
    "\n",
    "def circle_area(radius):\n",
    "    area = pi * radius ** 2 # calculate the area of the circle using the radius argument\n",
    "    return area # use return to get a value back from the function\n",
    "\n",
    "circle_area(10) # get the area of a circle with radius 10 (should be 314.15 ...)"
   ]
  },
  {
   "cell_type": "markdown",
   "id": "67ab7e4c-3e62-4198-b9ac-1fc95a5f0d9f",
   "metadata": {},
   "source": [
    "In the cell below, I've started two more functions for calculating the surface area and volume of a sphere. For each function, fill in the code that will return the correct result, then confirm that your function output matches the values shown in the comment on each line."
   ]
  },
  {
   "cell_type": "code",
   "execution_count": 2,
   "id": "19259ab4-d307-49e4-8542-589701221918",
   "metadata": {},
   "outputs": [
    {
     "ename": "IndentationError",
     "evalue": "expected an indented block after function definition on line 1 (4011184493.py, line 4)",
     "output_type": "error",
     "traceback": [
      "\u001b[1;36m  Cell \u001b[1;32mIn[2], line 4\u001b[1;36m\u001b[0m\n\u001b[1;33m    def sphere_volume(radius)\u001b[0m\n\u001b[1;37m    ^\u001b[0m\n\u001b[1;31mIndentationError\u001b[0m\u001b[1;31m:\u001b[0m expected an indented block after function definition on line 1\n"
     ]
    }
   ],
   "source": [
    "def sphere_area(radius):\n",
    "    # your code goes here!\n",
    "    area = 4 * pi * radius **2 \n",
    "\n",
    "\n",
    "def sphere_volume(radius)\n",
    "    # your code goes here!\n",
    "\n",
    "print(sphere_area(10)) # get the surface area of a sphere with radius 10 (should be 1256.637)\n",
    "print(sphere_volume(10)) # get the volume of a sphere with radius 10 (should be 4188.79)"
   ]
  },
  {
   "cell_type": "markdown",
   "id": "e3973fea-d460-4882-b17c-a8ee25a41f83",
   "metadata": {},
   "source": [
    "In the exercises to come, we'll define and use a number of other functions.\n",
    "\n",
    "## controlling flow\n",
    "\n",
    "Some of the most important uses that we'll have for programming are repeating tasks and executing different code based on some condition. For example, we might want to loop through a list of files and run a series of commands on each file, or apply an analysis only if the right conditions are met. \n",
    "\n",
    "In python, we can use the `while`, `for`, and `if` operators to control the flow of our programs. For example, given a number, we might want to check whether the value is positive, negative, or zero, and perform a different action based on which condition is `True`:"
   ]
  },
  {
   "cell_type": "code",
   "execution_count": 1,
   "id": "4704fbf0-7970-4d26-94da-1e2e9f6e4fbf",
   "metadata": {},
   "outputs": [],
   "source": [
    "def pos_neg_zero(x): # a function to tell us whether a number is positive, negative, or 0\n",
    "    if x > 0: # if x > 0, print that it is positive\n",
    "        print(f'{x} is a positive number')\n",
    "    elif x < 0: # if x < 0, print that it is negative\n",
    "        print(f'{x} is a negative number')\n",
    "    else: # if \n",
    "        print(f'{x} is zero')"
   ]
  },
  {
   "cell_type": "markdown",
   "id": "aef42e63-4fa8-4912-b903-58015fa66920",
   "metadata": {},
   "source": [
    "Here, we take in a number, `x`, and execute code based on whether `x` is positive, negative, or zero.\n",
    "\n",
    "Like the header of a function, an `if` or an `elif` **statement** has to be terminated with a colon (`:`). \n",
    "\n",
    "There isn't a limit to the number of `elif` statements we can use, but note that the order matters - once a condition is evaluated as `True`, the indented code is executed and the whole block is exited. For this reason, an `else` **statement** is optional, but it must always be last (since it automatically evaluates as `True`).\n",
    "\n",
    "Run the cell below to see how the output of the function changes based on the input:"
   ]
  },
  {
   "cell_type": "code",
   "execution_count": 2,
   "id": "750358a8-1b27-4f4f-8fc6-7f46cddd4863",
   "metadata": {},
   "outputs": [
    {
     "name": "stdout",
     "output_type": "stream",
     "text": [
      "-1 is a negative number\n",
      "1 is a positive number\n",
      "False is zero\n"
     ]
    }
   ],
   "source": [
    "pos_neg_zero(-1) # a negative number\n",
    "pos_neg_zero(1) # a positive number\n",
    "pos_neg_zero(False) # a weird one\n"
   ]
  },
  {
   "cell_type": "markdown",
   "id": "c70c7d8a-70cf-4ec7-ad96-d6f7c1c8fe92",
   "metadata": {},
   "source": [
    "Note that in the example above, `False` has evaluated as being equal to zero. This is because in python, **bool** (\"Boolean\") objects (`True` and `False`) are subclasses of **int**, and `False` has a value of `0`, while `True` has a value of `1`. For more on how python tests for truth values, see the [documentation](https://docs.python.org/3/library/stdtypes.html#truth-value-testing).\n",
    "\n",
    "In addition to conditional flow, we might also want to repeat actions. For example, we can write a simple function that counts down to some event, then announces the arrival of that event. We could define this function using a `while` loop, making sure to update a variable in each step:"
   ]
  },
  {
   "cell_type": "code",
   "execution_count": null,
   "id": "b54a8dff-4929-49d5-a9a5-7248bff0c6a2",
   "metadata": {},
   "outputs": [],
   "source": [
    "def countdown(n):\n",
    "    while n > 0:\n",
    "        print(n)\n",
    "        n -= 1 # note that this is the same as n = n - 1\n",
    "    print(\"Blastoff!\")\n",
    "    \n",
    "countdown(5) # count down from 5 to zero"
   ]
  },
  {
   "cell_type": "markdown",
   "id": "3a3a7188-ce7a-4bc1-ac50-ac8e525277ba",
   "metadata": {},
   "source": [
    "Note the importance of updating the variable that we are testing in the loop. If we remove the `n -= 1` line, our function will never stop running (an **infinite loop**). \n",
    "\n",
    "`while` loops are useful for actions without a pre-defined number of repetitions. We could just as easily re-define `countdown()` using a `for` loop, using `range()`:"
   ]
  },
  {
   "cell_type": "code",
   "execution_count": null,
   "id": "97635e38-79a4-4b2f-bc01-fe4ed7462072",
   "metadata": {},
   "outputs": [],
   "source": [
    "def countdown_for(n):\n",
    "    for ii in range(n, 0, -1):\n",
    "        print(ii)\n",
    "    print(\"Blastoff!\")\n",
    "\n",
    "countdown_for(5) # run the function to count down from 5"
   ]
  },
  {
   "cell_type": "markdown",
   "id": "25d3da8a-68af-42fc-845c-12a6aa4906dc",
   "metadata": {},
   "source": [
    "This version uses `range` to iterate from `n` to 1 in increments of -1, printing the value of `i` each time - that is, we leave `n` unchanged. \n",
    "\n",
    "We can also use the `break` statement to **break** out of a loop:"
   ]
  },
  {
   "cell_type": "code",
   "execution_count": null,
   "id": "9c6621aa-3638-4fd6-b16b-671a278d67d5",
   "metadata": {},
   "outputs": [],
   "source": [
    "def break_example(n):\n",
    "    # prints values from n to 1, then Blastoff!\n",
    "    while True:  # here, the loop will always run\n",
    "    # unless we reach a condition \n",
    "    # that breaks out of it:\n",
    "        if n <= 0:\n",
    "            break\n",
    "        print(n)\n",
    "        n -= 1\n",
    "    print(\"Blastoff!\")\n",
    "\n",
    "break_example(5) # run the function to count down from 5"
   ]
  },
  {
   "cell_type": "markdown",
   "id": "82632ced-b803-4832-bc5f-066382646d6d",
   "metadata": {},
   "source": [
    "or the `continue` statement to continue to the next step of a loop:"
   ]
  },
  {
   "cell_type": "code",
   "execution_count": null,
   "id": "f02f3f69-3afe-46c9-91ba-f75153ee63d9",
   "metadata": {},
   "outputs": [],
   "source": [
    "def continue_example(n):\n",
    "    # given an integer, n, prints the values from 0 to n that are even.\n",
    "    for x in range(n):\n",
    "        if x % 2 == 1:\n",
    "            continue\n",
    "        print('{} is even'.format(x))\n",
    "\n",
    "continue_example(10) # print the even integers from 0 to 9 (remember that range(n) is not inclusive!)"
   ]
  },
  {
   "cell_type": "markdown",
   "id": "2a475546-49d0-4c57-bd4c-5ddfe82af431",
   "metadata": {},
   "source": [
    "## importing modules\n",
    "\n",
    "Modules provide a convenient way to package functions and object classes, and load these items when needed. This also means that we only end up loading the functionality that we need, which helps save on memory and other resources. We have already imported one such module, the `math` module, which provides much more than the built-in operators we explored earlier. \n",
    "\n",
    "Specifically, we imported `pi` **from** the `math` module - that is, rather than importing the entire module, we only imported the attribute `pi`. When we import the entire module, we can access the attributes, classes, functions, etc. using a `.`:"
   ]
  },
  {
   "cell_type": "code",
   "execution_count": null,
   "id": "84ab655f-9f1a-4f8d-a09e-ed2a216ffb16",
   "metadata": {},
   "outputs": [],
   "source": [
    "import math # import the entire math module\n",
    "\n",
    "print(math.pi) # print the value of math.pi"
   ]
  },
  {
   "cell_type": "markdown",
   "id": "772be80d-e6c8-4401-ad1d-c02497e619d4",
   "metadata": {},
   "source": [
    "When we specifically name the things we want to import, we only have access to those things - importing `pi` from `math` does not also import `floor` - hence, the error message when you run the cell below:"
   ]
  },
  {
   "cell_type": "code",
   "execution_count": null,
   "id": "c7d1ae54-4ae5-4637-aaa1-e2fa5f59a8bf",
   "metadata": {},
   "outputs": [],
   "source": [
    "print(f'math.floor(10.19) is equal to: {math.floor(10.19)}') # print the output of math.floor(10.19)\n",
    "print(f'floor(10.19) is equal to:      {floor(10.19)}') # print the output of floor(10.19)"
   ]
  },
  {
   "cell_type": "markdown",
   "id": "b5945754-0f9d-4cae-91d4-3ea48ea07c99",
   "metadata": {},
   "source": [
    "To import multiple things from a single module, you can separate them by commas:"
   ]
  },
  {
   "cell_type": "code",
   "execution_count": null,
   "id": "ab02f337-9925-4cf1-a7fb-327cec900207",
   "metadata": {},
   "outputs": [],
   "source": [
    "from math import pi, floor, sin, cos, tan # import pi, floor, sin, cos, and tan from math"
   ]
  },
  {
   "cell_type": "markdown",
   "id": "0e4bc0e1-34c4-4ef9-945b-e28e0a5f81d5",
   "metadata": {},
   "source": [
    "We will look quite a bit more at importing modules/packages in the exercises to come.\n",
    "\n",
    "## recap\n",
    "\n",
    "That's all for this exercise. In this lesson, we have introduced the following concepts:\n",
    "\n",
    "- variables, objects, values, and assignment\n",
    "- data types\n",
    "- arithmetic operations\n",
    "- indexing with **str** and **list** objects\n",
    "- functions and methods\n",
    "- defining our own functions\n",
    "- flow control using logic\n",
    "- importing modules\n",
    "\n",
    "Next, we'll put some of this to work by having a look at a broken program, and see if we can manage to fix it."
   ]
  }
 ],
 "metadata": {
  "kernelspec": {
   "display_name": "Python 3 (ipykernel)",
   "language": "python",
   "name": "python3"
  },
  "language_info": {
   "codemirror_mode": {
    "name": "ipython",
    "version": 3
   },
   "file_extension": ".py",
   "mimetype": "text/x-python",
   "name": "python",
   "nbconvert_exporter": "python",
   "pygments_lexer": "ipython3",
   "version": "3.11.5"
  }
 },
 "nbformat": 4,
 "nbformat_minor": 5
}
